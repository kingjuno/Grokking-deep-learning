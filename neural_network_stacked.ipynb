{
 "cells": [
  {
   "cell_type": "code",
   "execution_count": 18,
   "source": [
    "            # toes % win # fans\n",
    "ih_wgt = [  [0.1, 0.2, -0.1],   # hid[0]\n",
    "            [-0.1,0.1, 0.9],    # hid[1]\n",
    "            [0.1, 0.4, 0.1]]    # hid[2]\n",
    "\n",
    "            #hid[0] hid[1] hid[2]\n",
    "hp_wgt = [  [0.3, 1.1, -0.3],   # hurt?\n",
    "            [0.1, 0.2, 0.0],    # win?\n",
    "            [0.0, 1.3, 0.1] ]   # sad?\n",
    "\n",
    "weights = [ih_wgt, hp_wgt]"
   ],
   "outputs": [],
   "metadata": {}
  },
  {
   "cell_type": "code",
   "execution_count": 19,
   "source": [
    "def w_sum(input,weights):\n",
    "    assert(len(input) == len(weights))\n",
    "\n",
    "    output = 0\n",
    "\n",
    "    for i in range(len(weights)):\n",
    "        output+= input[i]*weights[i]\n",
    "\n",
    "    return output\n",
    "\n",
    "\n",
    "def vec_mul(input,weights):\n",
    "    assert(len(input) == len(weights))\n",
    "    \n",
    "    output = [0,0,0]\n",
    "\n",
    "    for i in range(len(input)):\n",
    "        output[i] = w_sum(input,weights[i])\n",
    "\n",
    "    return output\n",
    "\n",
    "\n",
    "\n",
    "def neural_network(input,weight):\n",
    "    hid = vec_mul(input,weights[0])\n",
    "    pred = vec_mul(hid,weights[1])\n",
    "    return hid,pred"
   ],
   "outputs": [],
   "metadata": {}
  },
  {
   "cell_type": "code",
   "execution_count": 20,
   "source": [
    "toes = [8.5, 9.5, 9.9, 9.0]\n",
    "wlrec = [0.65,0.8, 0.8, 0.9]\n",
    "nfans = [1.2, 1.3, 0.5, 1.0]\n",
    "\n",
    "input = [toes[0],wlrec[0],nfans[0]]\n",
    "\n",
    "hid,pred = neural_network(input,weights)\n",
    "print(hid,pred,sep='\\n')"
   ],
   "outputs": [
    {
     "output_type": "stream",
     "name": "stdout",
     "text": [
      "[0.8600000000000001, 0.29499999999999993, 1.23]\n",
      "[0.21350000000000002, 0.14500000000000002, 0.5065]\n"
     ]
    }
   ],
   "metadata": {}
  }
 ],
 "metadata": {
  "orig_nbformat": 4,
  "language_info": {
   "name": "python",
   "version": "3.8.10",
   "mimetype": "text/x-python",
   "codemirror_mode": {
    "name": "ipython",
    "version": 3
   },
   "pygments_lexer": "ipython3",
   "nbconvert_exporter": "python",
   "file_extension": ".py"
  },
  "kernelspec": {
   "name": "python3",
   "display_name": "Python 3.8.10 64-bit"
  },
  "interpreter": {
   "hash": "916dbcbb3f70747c44a77c7bcd40155683ae19c65e1c03b4aa3499c5328201f1"
  }
 },
 "nbformat": 4,
 "nbformat_minor": 2
}