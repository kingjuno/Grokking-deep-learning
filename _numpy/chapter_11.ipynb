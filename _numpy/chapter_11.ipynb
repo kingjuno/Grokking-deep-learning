{
 "cells": [
  {
   "cell_type": "code",
   "execution_count": 2,
   "metadata": {},
   "outputs": [
    {
     "name": "stdout",
     "output_type": "stream",
     "text": [
      "[[1, 0, 1, 0], [1, 1, 0, 1], [0, 1, 1, 1], [1, 1, 0, 1], [0, 1, 0, 0]]\n"
     ]
    },
    {
     "data": {
      "text/plain": [
       "(array([2, 3, 3, 3, 1]), array([3, 4, 2, 3]))"
      ]
     },
     "execution_count": 2,
     "metadata": {},
     "output_type": "execute_result"
    }
   ],
   "source": [
    "import numpy as np\n",
    "import random\n",
    "\n",
    "\n",
    "n = [[random.randint(0,1) for i in range(4)] for j in range(5)]\n",
    "print(n)\n",
    "np.sum(n,axis=1),np.sum(n,axis=0)\n",
    "# n = np.array(n)[[1,2]]\n",
    "# n,np.sum(n,axis=1),np.sum(n,axis=0)\n"
   ]
  },
  {
   "cell_type": "code",
   "execution_count": 23,
   "metadata": {},
   "outputs": [
    {
     "name": "stdout",
     "output_type": "stream",
     "text": [
      "[[1, 1, 0, 1], [1, 1, 0, 1], [1, 0, 1, 0], [0, 1, 1, 1], [0, 1, 0, 0]]\n",
      "[7, 7, 9, 2, 0]\n"
     ]
    }
   ],
   "source": [
    "x = n[::]\n",
    "random.shuffle(x)\n",
    "print(x)\n",
    "negative =5\n",
    "print(((np.random.rand(negative)*10).astype('int').tolist()))"
   ]
  },
  {
   "cell_type": "code",
   "execution_count": 24,
   "metadata": {},
   "outputs": [
    {
     "data": {
      "text/plain": [
       "array([0., 0., 0., 0., 0., 0.])"
      ]
     },
     "execution_count": 24,
     "metadata": {},
     "output_type": "execute_result"
    }
   ],
   "source": [
    "np.zeros(negative+1)"
   ]
  }
 ],
 "metadata": {
  "interpreter": {
   "hash": "916dbcbb3f70747c44a77c7bcd40155683ae19c65e1c03b4aa3499c5328201f1"
  },
  "kernelspec": {
   "display_name": "Python 3.8.10 64-bit",
   "name": "python3"
  },
  "language_info": {
   "codemirror_mode": {
    "name": "ipython",
    "version": 3
   },
   "file_extension": ".py",
   "mimetype": "text/x-python",
   "name": "python",
   "nbconvert_exporter": "python",
   "pygments_lexer": "ipython3",
   "version": "3.8.10"
  },
  "orig_nbformat": 4
 },
 "nbformat": 4,
 "nbformat_minor": 2
}
