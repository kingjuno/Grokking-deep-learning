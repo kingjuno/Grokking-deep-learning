{
 "cells": [
  {
   "cell_type": "code",
   "execution_count": 21,
   "metadata": {},
   "outputs": [
    {
     "name": "stdout",
     "output_type": "stream",
     "text": [
      "(3, 2, 1, 3, 3) (2, 3, 3, 3)\n",
      "[[[[[2 3 0]\n",
      "    [4 2 4]\n",
      "    [0 2 4]]]\n",
      "\n",
      "\n",
      "  [[[3 0 0]\n",
      "    [2 0 0]\n",
      "    [0 1 4]]]]\n",
      "\n",
      "\n",
      "\n",
      " [[[[3 4 4]\n",
      "    [4 3 1]\n",
      "    [2 4 3]]]\n",
      "\n",
      "\n",
      "  [[[4 2 3]\n",
      "    [2 2 0]\n",
      "    [0 0 3]]]]\n",
      "\n",
      "\n",
      "\n",
      " [[[[0 3 3]\n",
      "    [2 0 4]\n",
      "    [3 4 1]]]\n",
      "\n",
      "\n",
      "  [[[3 2 1]\n",
      "    [3 4 0]\n",
      "    [4 2 0]]]]]\n",
      "#####\n",
      "[[[[2 3 0]\n",
      "   [4 2 4]\n",
      "   [0 2 4]]\n",
      "\n",
      "  [[3 4 4]\n",
      "   [4 3 1]\n",
      "   [2 4 3]]\n",
      "\n",
      "  [[0 3 3]\n",
      "   [2 0 4]\n",
      "   [3 4 1]]]\n",
      "\n",
      "\n",
      " [[[3 0 0]\n",
      "   [2 0 0]\n",
      "   [0 1 4]]\n",
      "\n",
      "  [[4 2 3]\n",
      "   [2 2 0]\n",
      "   [0 0 3]]\n",
      "\n",
      "  [[3 2 1]\n",
      "   [3 4 0]\n",
      "   [4 2 0]]]]\n",
      "[[2 3 0 4 2 4 0 2 4]\n",
      " [3 4 4 4 3 1 2 4 3]\n",
      " [0 3 3 2 0 4 3 4 1]\n",
      " [3 0 0 2 0 0 0 1 4]\n",
      " [4 2 3 2 2 0 0 0 3]\n",
      " [3 2 1 3 4 0 4 2 0]]\n"
     ]
    }
   ],
   "source": [
    "import numpy as np\n",
    "\n",
    "a = np.random.randint(5,size=(3,2,1,3,3))\n",
    "b = np.concatenate(a,axis =1)\n",
    "print(a.shape,b.shape)\n",
    "print(a,b,sep=\"\\n#####\\n\")\n",
    "es = b.shape\n",
    "f = b.reshape(es[0]*es[1],-1)\n",
    "print(f)"
   ]
  }
 ],
 "metadata": {
  "interpreter": {
   "hash": "916dbcbb3f70747c44a77c7bcd40155683ae19c65e1c03b4aa3499c5328201f1"
  },
  "kernelspec": {
   "display_name": "Python 3.8.10 64-bit",
   "language": "python",
   "name": "python3"
  },
  "language_info": {
   "codemirror_mode": {
    "name": "ipython",
    "version": 3
   },
   "file_extension": ".py",
   "mimetype": "text/x-python",
   "name": "python",
   "nbconvert_exporter": "python",
   "pygments_lexer": "ipython3",
   "version": "3.8.10"
  },
  "orig_nbformat": 4
 },
 "nbformat": 4,
 "nbformat_minor": 2
}
