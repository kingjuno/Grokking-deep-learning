{
 "cells": [
  {
   "cell_type": "code",
   "execution_count": 32,
   "metadata": {},
   "outputs": [],
   "source": [
    "import numpy as np\n",
    "\n",
    "np.random.seed(1)\n",
    "\n",
    "def relu(x):\n",
    "    return (x>0) * x\n",
    "\n",
    "def relu2deriv(output):\n",
    "    return output>0"
   ]
  },
  {
   "cell_type": "code",
   "execution_count": 33,
   "metadata": {},
   "outputs": [],
   "source": [
    "alpha = 0.2\n",
    "hidden_size = 4\n",
    "\n",
    "street_light = np.array([\n",
    "    [1,0,1],\n",
    "    [0,1,1],\n",
    "    [0,0,1],\n",
    "    [1,1,1]\n",
    "])\n",
    "\n",
    "walk_vs_stop = np.array([1,1,0,0]).T"
   ]
  },
  {
   "cell_type": "code",
   "execution_count": 34,
   "metadata": {},
   "outputs": [],
   "source": [
    "weights_0_1 = 2*np.random.random((3,hidden_size)) - 1\n",
    "weights_1_2 = 2*np.random.random((hidden_size,1)) - 1"
   ]
  },
  {
   "cell_type": "code",
   "execution_count": 35,
   "metadata": {},
   "outputs": [
    {
     "name": "stdout",
     "output_type": "stream",
     "text": [
      "Error: 0.6342311598444467\n",
      "Error: 0.3583840767631751\n",
      "Error: 0.08301831133032973\n",
      "Error: 0.006467054957103672\n",
      "Error: 0.0003292669000750735\n",
      "Error: 1.5055622665134864e-05\n"
     ]
    }
   ],
   "source": [
    "for iteration in range(60):\n",
    "    layer_2_error = 0\n",
    "    for i in range(len(street_light)):\n",
    "        layer_0 = street_light[i:i+1]\n",
    "        layer_1 = relu(np.dot(layer_0,weights_0_1))\n",
    "        layer_2 = np.dot(layer_1,weights_1_2)\n",
    "\n",
    "        goal_pred = walk_vs_stop[i:i+1]\n",
    "        layer_2_error += np.sum((layer_2 - goal_pred)**2)\n",
    "\n",
    "        layer_2_delta = (layer_2 - goal_pred)\n",
    "        layer_1_delta = layer_2_delta.dot(weights_1_2.T)*relu2deriv(layer_1)\n",
    "        # [NOTE 1]\n",
    "\n",
    "\n",
    "        # weight -= alpha * input*delta\n",
    "        weights_1_2 -= alpha*layer_1.T.dot(layer_2_delta)\n",
    "        weights_0_1 -= alpha*layer_0.T.dot(layer_1_delta)\n",
    "\n",
    "    if(iteration%10 == 9):\n",
    "        print(f'Error: {layer_2_error}')"
   ]
  },
  {
   "cell_type": "markdown",
   "metadata": {},
   "source": [
    "[NOTE 1]: \n",
    "\n",
    "[Refer](http://www.hdip-data-analytics.com/_media/resources/pdf/s4/grokking_deep_learning.pdf#page=141)\n",
    "\n",
    "for **delta_1**\n",
    "[Refer](https://deeplizard.com/learn/video/xClK__CqZnQ)"
   ]
  }
 ],
 "metadata": {
  "interpreter": {
   "hash": "916dbcbb3f70747c44a77c7bcd40155683ae19c65e1c03b4aa3499c5328201f1"
  },
  "kernelspec": {
   "display_name": "Python 3.8.10 64-bit",
   "name": "python3"
  },
  "language_info": {
   "codemirror_mode": {
    "name": "ipython",
    "version": 3
   },
   "file_extension": ".py",
   "mimetype": "text/x-python",
   "name": "python",
   "nbconvert_exporter": "python",
   "pygments_lexer": "ipython3",
   "version": "3.8.10"
  },
  "orig_nbformat": 4
 },
 "nbformat": 4,
 "nbformat_minor": 2
}
