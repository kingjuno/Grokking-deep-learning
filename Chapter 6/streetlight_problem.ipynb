{
 "cells": [
  {
   "cell_type": "code",
   "execution_count": 7,
   "source": [
    "import numpy as np\n",
    "\n",
    "weights = np.array([0.5, 0.48, -0.7])\n",
    "alpha = 0.1\n",
    "\n",
    "streetlights = np.array([\n",
    "    [1,0,1],\n",
    "    [0,1,1],\n",
    "    [0,0,1],\n",
    "    [1,1,1],\n",
    "    [0,1,1],\n",
    "    [1,0,1]\n",
    "])"
   ],
   "outputs": [],
   "metadata": {}
  },
  {
   "cell_type": "code",
   "execution_count": 8,
   "source": [
    "walk_vs_stop = np.array([0,1,0,1,1,0])\n",
    "\n",
    "input = streetlights[0]\n",
    "goal_pred = walk_vs_stop[0]\n",
    "\n",
    "for iter in range(4):\n",
    "    pred = input.dot(weights)\n",
    "    error = (pred - goal_pred)**2\n",
    "    delta = pred - goal_pred\n",
    "    weight_delta = delta*input\n",
    "    weights -= weight_delta*alpha\n",
    "\n",
    "    print('----')\n",
    "    print(f'{iter} Error: {error} Pred: {pred} Goal: {goal_pred}')"
   ],
   "outputs": [
    {
     "output_type": "stream",
     "name": "stdout",
     "text": [
      "----\n",
      "0 Error: 0.03999999999999998 Pred: -0.19999999999999996 Goal: 0\n",
      "[-0.2 -0.  -0.2]\n",
      "----\n",
      "1 Error: 0.025599999999999973 Pred: -0.15999999999999992 Goal: 0\n",
      "[-0.16 -0.   -0.16]\n",
      "----\n",
      "2 Error: 0.01638399999999997 Pred: -0.1279999999999999 Goal: 0\n",
      "[-0.128 -0.    -0.128]\n",
      "----\n",
      "3 Error: 0.010485759999999964 Pred: -0.10239999999999982 Goal: 0\n",
      "[-0.1024 -0.     -0.1024]\n"
     ]
    }
   ],
   "metadata": {}
  }
 ],
 "metadata": {
  "orig_nbformat": 4,
  "language_info": {
   "name": "python",
   "version": "3.8.10",
   "mimetype": "text/x-python",
   "codemirror_mode": {
    "name": "ipython",
    "version": 3
   },
   "pygments_lexer": "ipython3",
   "nbconvert_exporter": "python",
   "file_extension": ".py"
  },
  "kernelspec": {
   "name": "python3",
   "display_name": "Python 3.8.10 64-bit"
  },
  "interpreter": {
   "hash": "916dbcbb3f70747c44a77c7bcd40155683ae19c65e1c03b4aa3499c5328201f1"
  }
 },
 "nbformat": 4,
 "nbformat_minor": 2
}