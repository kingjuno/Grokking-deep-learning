{
 "cells": [
  {
   "cell_type": "code",
   "execution_count": 7,
   "source": [
    "weight = [0.3,0.2,0.9]\n",
    "\n",
    "def elem_mul(input,weight):\n",
    "    output = [0,0,0]\n",
    "\n",
    "    assert(len(output) == len(weight))\n",
    "\n",
    "    for i in range(len(weight)):\n",
    "        output[i] = input*weight[i]\n",
    "\n",
    "    return output\n",
    "\n",
    "def neural_network(input,weight):\n",
    "    pred = elem_mul(input,weight)\n",
    "    return pred"
   ],
   "outputs": [],
   "metadata": {}
  },
  {
   "cell_type": "code",
   "execution_count": 8,
   "source": [
    "wlrec = [0.65, 0.8, 0.8, 0.9]\n",
    "input = wlrec[0]\n",
    "pred = neural_network(input,weight)\n",
    "print(pred)"
   ],
   "outputs": [
    {
     "output_type": "stream",
     "name": "stdout",
     "text": [
      "[0.195, 0.13, 0.5850000000000001]\n"
     ]
    }
   ],
   "metadata": {}
  }
 ],
 "metadata": {
  "orig_nbformat": 4,
  "language_info": {
   "name": "python",
   "version": "3.8.10",
   "mimetype": "text/x-python",
   "codemirror_mode": {
    "name": "ipython",
    "version": 3
   },
   "pygments_lexer": "ipython3",
   "nbconvert_exporter": "python",
   "file_extension": ".py"
  },
  "kernelspec": {
   "name": "python3",
   "display_name": "Python 3.8.10 64-bit"
  },
  "interpreter": {
   "hash": "916dbcbb3f70747c44a77c7bcd40155683ae19c65e1c03b4aa3499c5328201f1"
  }
 },
 "nbformat": 4,
 "nbformat_minor": 2
}