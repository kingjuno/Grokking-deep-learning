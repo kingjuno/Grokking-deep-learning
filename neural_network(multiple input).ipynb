{
 "cells": [
  {
   "cell_type": "code",
   "execution_count": 1,
   "source": [
    "weights = [0.1,0.2,0]\n",
    "def w_sum(input,weights):\n",
    "    assert(len(input) == len(weights))\n",
    "\n",
    "    output = 0\n",
    "\n",
    "    for i in range(len(weights)):\n",
    "        output+= input[i]*weights[i]\n",
    "\n",
    "    return output\n",
    "\n",
    "def neural_network(input,weight):\n",
    "    pred = w_sum(input,weight)\n",
    "    return pred"
   ],
   "outputs": [],
   "metadata": {}
  },
  {
   "cell_type": "code",
   "execution_count": 2,
   "source": [
    "toes = [8.5, 9.5, 9.9, 9.0] #current no of toes\n",
    "wlrec = [0.65, 0.8, 0.8, 0.9] # current games won in percentage\n",
    "nfans = [1.2, 1.3, 0.5, 1.0] # no of fans in millions\n",
    "\n",
    "input = [toes[0],wlrec[0],nfans[0]]\n",
    "\n",
    "pred = neural_network(input,weights)\n",
    "print(pred)"
   ],
   "outputs": [
    {
     "output_type": "stream",
     "name": "stdout",
     "text": [
      "0.9800000000000001\n"
     ]
    }
   ],
   "metadata": {}
  }
 ],
 "metadata": {
  "orig_nbformat": 4,
  "language_info": {
   "name": "python",
   "version": "3.8.10",
   "mimetype": "text/x-python",
   "codemirror_mode": {
    "name": "ipython",
    "version": 3
   },
   "pygments_lexer": "ipython3",
   "nbconvert_exporter": "python",
   "file_extension": ".py"
  },
  "kernelspec": {
   "name": "python3",
   "display_name": "Python 3.8.10 64-bit"
  },
  "interpreter": {
   "hash": "916dbcbb3f70747c44a77c7bcd40155683ae19c65e1c03b4aa3499c5328201f1"
  }
 },
 "nbformat": 4,
 "nbformat_minor": 2
}