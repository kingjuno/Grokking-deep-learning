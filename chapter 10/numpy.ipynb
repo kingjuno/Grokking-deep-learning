{
 "cells": [
  {
   "cell_type": "code",
   "execution_count": 11,
   "metadata": {},
   "outputs": [],
   "source": [
    "import numpy as np"
   ]
  },
  {
   "cell_type": "code",
   "execution_count": 12,
   "metadata": {},
   "outputs": [
    {
     "name": "stdout",
     "output_type": "stream",
     "text": [
      "(2, 3, 1, 3, 3) (3, 2, 3, 3)\n",
      "[[[[1 2 3]\n",
      "   [1 2 3]\n",
      "   [1 2 3]]\n",
      "\n",
      "  [[1 2 3]\n",
      "   [1 2 3]\n",
      "   [1 2 3]]]\n",
      "\n",
      "\n",
      " [[[1 2 3]\n",
      "   [1 2 3]\n",
      "   [1 2 3]]\n",
      "\n",
      "  [[1 2 3]\n",
      "   [1 2 3]\n",
      "   [1 2 3]]]\n",
      "\n",
      "\n",
      " [[[1 2 3]\n",
      "   [1 2 3]\n",
      "   [1 2 3]]\n",
      "\n",
      "  [[1 2 3]\n",
      "   [1 2 3]\n",
      "   [1 2 3]]]]\n"
     ]
    }
   ],
   "source": [
    "a = np.array([[\n",
    "        [[[1,2,3],[1,2,3],[1,2,3]]],\n",
    "        [[[1,2,3],[1,2,3],[1,2,3]]],\n",
    "        [[[1,2,3],[1,2,3],[1,2,3]]]\n",
    "    ],[\n",
    "       [[[1,2,3],[1,2,3],[1,2,3]]],\n",
    "        [[[1,2,3],[1,2,3],[1,2,3]]],\n",
    "        [[[1,2,3],[1,2,3],[1,2,3]]]\n",
    "    ]])\n",
    "\n",
    "b= np.concatenate(a,axis=1)\n",
    "print(a.shape,b.shape)\n",
    "print(b)"
   ]
  }
 ],
 "metadata": {
  "interpreter": {
   "hash": "916dbcbb3f70747c44a77c7bcd40155683ae19c65e1c03b4aa3499c5328201f1"
  },
  "kernelspec": {
   "display_name": "Python 3.8.10 64-bit",
   "name": "python3"
  },
  "language_info": {
   "codemirror_mode": {
    "name": "ipython",
    "version": 3
   },
   "file_extension": ".py",
   "mimetype": "text/x-python",
   "name": "python",
   "nbconvert_exporter": "python",
   "pygments_lexer": "ipython3",
   "version": "3.8.10"
  },
  "orig_nbformat": 4
 },
 "nbformat": 4,
 "nbformat_minor": 2
}
