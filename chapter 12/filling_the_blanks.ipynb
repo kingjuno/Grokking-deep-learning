{
 "cells": [
  {
   "cell_type": "code",
   "execution_count": 1,
   "metadata": {},
   "outputs": [],
   "source": [
    "import sys, random, math\n",
    "from collections import Counter\n",
    "import numpy as np\n",
    "\n",
    "np.random.seed(1)\n",
    "random.seed(1)"
   ]
  },
  {
   "cell_type": "code",
   "execution_count": 3,
   "metadata": {},
   "outputs": [],
   "source": [
    "f = open('../chapter 11/reviews.txt')\n",
    "raw_reviews = f.readlines()\n",
    "f.close()"
   ]
  },
  {
   "cell_type": "code",
   "execution_count": 4,
   "metadata": {},
   "outputs": [],
   "source": [
    "tokens = list(map(lambda x:(x.split(\" \")),raw_reviews))\n",
    "wordcnt = Counter()\n",
    "for sent in tokens:\n",
    "    for word in sent: \n",
    "        wordcnt[word] -= 1\n",
    "vocab = list(set(map(lambda x:x[0], wordcnt.most_common())))"
   ]
  },
  {
   "cell_type": "code",
   "execution_count": 5,
   "metadata": {},
   "outputs": [],
   "source": [
    "word2index = {}\n",
    "for i, word in enumerate(vocab):\n",
    "    word2index[word] = i\n",
    "\n",
    "concatenated = list()\n",
    "input_dataset = list()\n",
    "for sent in tokens:\n",
    "    sent_indices = list()\n",
    "    for word in sent:\n",
    "        try:\n",
    "            sent_indices.append(word2index[word])\n",
    "            concatenated.append(word2index[word])\n",
    "        except:...\n",
    "    input_dataset.append(sent_indices)\n",
    "concatenated = np.array(concatenated)\n",
    "\n",
    "random.shuffle(input_dataset)"
   ]
  },
  {
   "cell_type": "code",
   "execution_count": 6,
   "metadata": {},
   "outputs": [],
   "source": [
    "alpha, iterations = (0.05, 2)\n",
    "hidden_size, window, negative = (50,2,5)\n",
    "\n",
    "weight_0_1 = 0.2* (np.random.rand(len(vocab),hidden_size)-0.5)\n",
    "weight_1_2 = 0.2* (np.random.rand(len(vocab),hidden_size))\n",
    "\n",
    "layer_2_target = np.zeros(negative+1)\n",
    "layer_2_target[0] = 1"
   ]
  },
  {
   "cell_type": "code",
   "execution_count": 7,
   "metadata": {},
   "outputs": [],
   "source": [
    "def similar(target='beautiful'):\n",
    "    target_index = word2index[target]\n",
    "\n",
    "    scores = Counter()\n",
    "    for word,index in word2index.items():\n",
    "        raw_diff = weight_0_1[index] - weight_0_1[target_index]\n",
    "        sq_diff = raw_diff**2\n",
    "\n",
    "        scores[word] = -math.sqrt(sum(sq_diff))\n",
    "    return scores.most_common(10)"
   ]
  },
  {
   "cell_type": "code",
   "execution_count": 8,
   "metadata": {},
   "outputs": [],
   "source": [
    "def sigmoid(x):\n",
    "    return 1/(1+ np.exp(-x))"
   ]
  },
  {
   "cell_type": "code",
   "execution_count": 17,
   "metadata": {},
   "outputs": [
    {
     "name": "stdout",
     "output_type": "stream",
     "text": [
      "Progress:0.0"
     ]
    }
   ],
   "source": [
    "for rev_i, review in enumerate(input_dataset[:100]*iterations):\n",
    "    for target_i in range(len(review[:100])):\n",
    "        target_samples = [review[target_i]] + list(\n",
    "            concatenated[(np.random.rand(negative)*\n",
    "            len(concatenated)).astype('int').tolist()]\n",
    "        )\n",
    "        left_context = review[max(0,target_i-window):target_i]\n",
    "        right_context = review[target_i+1:min(len(review),target_i+window)]\n",
    "        layer_1 = np.mean(weight_0_1[left_context+right_context],axis=0)\n",
    "        layer_2 = sigmoid(layer_1.dot(weight_1_2[target_samples].T))\n",
    "        layer_2_delta = layer_2 - layer_2_target\n",
    "        layer_1_delta = layer_2_delta.dot(weight_1_2[target_samples])\n",
    "        weight_0_1[left_context+right_context] -= layer_1_delta * alpha\n",
    "        weight_1_2[target_samples] -= np.outer(layer_2_delta,layer_1)*alpha\n",
    "        if(rev_i % 250 == 0):\n",
    "            sys.stdout.write('\\rProgress:'+str(rev_i/float(len(input_dataset)\n",
    "            *iterations)) + \" \" + str(similar('terrible')))\n",
    "            sys.stdout.write('\\rProgress:'+str(rev_i/float(len(input_dataset)\n",
    "            *iterations)))"
   ]
  },
  {
   "cell_type": "code",
   "execution_count": 18,
   "metadata": {},
   "outputs": [],
   "source": [
    "norms = np.sum(weight_0_1*weight_0_1, axis = 1)\n",
    "norms.resize(norms.shape[0],1)\n",
    "normed_weights = weight_0_1 * norms"
   ]
  },
  {
   "cell_type": "code",
   "execution_count": 19,
   "metadata": {},
   "outputs": [],
   "source": [
    "def make_sent_vect(words):\n",
    "    indices = list(map(lambda x:word2index[x],\\\n",
    "                    filter(lambda x:x in word2index,words)))\n",
    "    return np.mean(normed_weights[indices],axis=0)"
   ]
  },
  {
   "cell_type": "code",
   "execution_count": 20,
   "metadata": {},
   "outputs": [],
   "source": [
    "reviews2vectors = list()\n",
    "for review in tokens:\n",
    "    reviews2vectors.append(make_sent_vect(review))\n",
    "reviews2vectors = np.array(reviews2vectors)"
   ]
  },
  {
   "cell_type": "code",
   "execution_count": 21,
   "metadata": {},
   "outputs": [],
   "source": [
    "from collections import Counter\n",
    "\n",
    "def most_similar_reviews(review):\n",
    "    v = make_sent_vect(review)\n",
    "    scores = Counter()\n",
    "    for i,val in enumerate(reviews2vectors.dot(v)):\n",
    "        scores[i] = val\n",
    "    most_similar = list()\n",
    "    for idx,score in scores.most_common(3):\n",
    "        most_similar.append(raw_reviews[idx][0:40])\n",
    "    return most_similar"
   ]
  },
  {
   "cell_type": "code",
   "execution_count": 26,
   "metadata": {},
   "outputs": [
    {
     "data": {
      "text/plain": [
       "['this is my favorite show . i think it is',\n",
       " 'the movie was a big car commercial .    ',\n",
       " 'i  ve read all the comments on this film']"
      ]
     },
     "execution_count": 26,
     "metadata": {},
     "output_type": "execute_result"
    }
   ],
   "source": [
    "most_similar_reviews(['love','you'])"
   ]
  }
 ],
 "metadata": {
  "interpreter": {
   "hash": "916dbcbb3f70747c44a77c7bcd40155683ae19c65e1c03b4aa3499c5328201f1"
  },
  "kernelspec": {
   "display_name": "Python 3.8.10 64-bit",
   "name": "python3"
  },
  "language_info": {
   "codemirror_mode": {
    "name": "ipython",
    "version": 3
   },
   "file_extension": ".py",
   "mimetype": "text/x-python",
   "name": "python",
   "nbconvert_exporter": "python",
   "pygments_lexer": "ipython3",
   "version": "3.8.10"
  },
  "orig_nbformat": 4
 },
 "nbformat": 4,
 "nbformat_minor": 2
}
