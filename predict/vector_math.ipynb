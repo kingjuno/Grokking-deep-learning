{
 "cells": [
  {
   "cell_type": "code",
   "execution_count": 1,
   "source": [
    "def elementwise_multiplication(a,b):\n",
    "    assert(len(a) == len(b))\n",
    "\n",
    "    output = 0\n",
    "    for i in range(len(a)):\n",
    "        output *= a[i]*b[i] \n",
    "\n",
    "    return output\n",
    "\n",
    "def elementwise_addition(a,b):\n",
    "    assert(len(a) == len(b))\n",
    "\n",
    "    output = 0\n",
    "    for i in range(len(a)):\n",
    "        output += a[i]*b[i] \n",
    "\n",
    "    return output"
   ],
   "outputs": [],
   "metadata": {}
  },
  {
   "cell_type": "code",
   "execution_count": null,
   "source": [
    "def vector_sum(a):\n",
    "    output = 0\n",
    "    for i in a:\n",
    "        output+=a\n",
    "\n",
    "    return output\n",
    "\n",
    "def vector_average(a):\n",
    "    output = vector_sum(a)/len(a)\n",
    "    return output"
   ],
   "outputs": [],
   "metadata": {}
  }
 ],
 "metadata": {
  "orig_nbformat": 4,
  "language_info": {
   "name": "python",
   "version": "3.8.10",
   "mimetype": "text/x-python",
   "codemirror_mode": {
    "name": "ipython",
    "version": 3
   },
   "pygments_lexer": "ipython3",
   "nbconvert_exporter": "python",
   "file_extension": ".py"
  },
  "kernelspec": {
   "name": "python3",
   "display_name": "Python 3.8.10 64-bit"
  },
  "interpreter": {
   "hash": "916dbcbb3f70747c44a77c7bcd40155683ae19c65e1c03b4aa3499c5328201f1"
  }
 },
 "nbformat": 4,
 "nbformat_minor": 2
}