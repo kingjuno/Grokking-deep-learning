{
 "cells": [
  {
   "cell_type": "code",
   "execution_count": 15,
   "source": [
    "import numpy as np\n",
    "                    # toes % win # fans\n",
    "ih_wgt = np.array([\n",
    "                    [0.1, 0.2, -0.1], # hid[0]\n",
    "                    [-0.1,0.1, 0.9], # hid[1]\n",
    "                    [0.1, 0.4, 0.1] # hid[2]\n",
    "]).T \n",
    "\n",
    "                    # hid[0] hid[1] hid[2]\n",
    "hp_wgt = np.array([\n",
    "                    [0.3, 1.1, -0.3], # hurt?\n",
    "                    [0.1, 0.2, 0.0], # win?\n",
    "                    [0.0, 1.3, 0.1] # sad?\n",
    "]).T \n",
    "\n",
    "weights = [ih_wgt, hp_wgt]"
   ],
   "outputs": [
    {
     "output_type": "stream",
     "name": "stdout",
     "text": [
      "[[ 0.1 -0.1  0.1]\n",
      " [ 0.2  0.1  0.4]\n",
      " [-0.1  0.9  0.1]]\n"
     ]
    }
   ],
   "metadata": {}
  },
  {
   "cell_type": "code",
   "execution_count": 16,
   "source": [
    "def neural_network(input, weights):\n",
    " hid = input.dot(weights[0])\n",
    " pred = hid.dot(weights[1])\n",
    " return pred"
   ],
   "outputs": [],
   "metadata": {}
  },
  {
   "cell_type": "code",
   "execution_count": 17,
   "source": [
    "toes = np.array([8.5, 9.5, 9.9, 9.0])\n",
    "wlrec = np.array([0.65,0.8, 0.8, 0.9])\n",
    "nfans = np.array([1.2, 1.3, 0.5, 1.0])\n",
    "\n",
    "input = np.array([toes[0],wlrec[0],nfans[0]])\n",
    "\n",
    "pred = neural_network(input,weights)\n",
    "print(pred)"
   ],
   "outputs": [
    {
     "output_type": "stream",
     "name": "stdout",
     "text": [
      "[0.2135 0.145  0.5065]\n"
     ]
    }
   ],
   "metadata": {}
  }
 ],
 "metadata": {
  "orig_nbformat": 4,
  "language_info": {
   "name": "python",
   "version": "3.8.10",
   "mimetype": "text/x-python",
   "codemirror_mode": {
    "name": "ipython",
    "version": 3
   },
   "pygments_lexer": "ipython3",
   "nbconvert_exporter": "python",
   "file_extension": ".py"
  },
  "kernelspec": {
   "name": "python3",
   "display_name": "Python 3.8.10 64-bit"
  },
  "interpreter": {
   "hash": "916dbcbb3f70747c44a77c7bcd40155683ae19c65e1c03b4aa3499c5328201f1"
  }
 },
 "nbformat": 4,
 "nbformat_minor": 2
}