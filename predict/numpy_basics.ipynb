{
 "cells": [
  {
   "cell_type": "code",
   "execution_count": 9,
   "source": [
    "import numpy as np\n",
    "\n",
    "a = np.array([0,1,2,3])  #a vector\n",
    "b = np.array([4,5,6,7])  #a vector\n",
    "c = np.array([[0,1,2,3], #a matrix\n",
    "              [4,5,6,7]\n",
    "            ])\n",
    "\n",
    "d = np.zeros((2,4)) # 2x4 zero matrix\n",
    "e = np.random.randint(100,size=(2,5)) #random 2x5 matrix with all entries less than 100\n",
    "f = np.random.rand(2,5) #random 2x5 matrix with all entries less than 1."
   ],
   "outputs": [],
   "metadata": {}
  },
  {
   "cell_type": "code",
   "execution_count": 11,
   "source": [
    "print(a,b,c,d,e,f,sep='\\n')"
   ],
   "outputs": [
    {
     "output_type": "stream",
     "name": "stdout",
     "text": [
      "[0 1 2 3]\n",
      "[4 5 6 7]\n",
      "[[0 1 2 3]\n",
      " [4 5 6 7]]\n",
      "[[0. 0. 0. 0.]\n",
      " [0. 0. 0. 0.]]\n",
      "[[76 12 70 34 57]\n",
      " [71 94  1 29 22]]\n",
      "[[0.26355964 0.66042985 0.6056391  0.32089444 0.14451105]\n",
      " [0.95330417 0.72344484 0.34788678 0.05668917 0.96232076]]\n"
     ]
    }
   ],
   "metadata": {}
  },
  {
   "cell_type": "code",
   "execution_count": 12,
   "source": [
    "print(a*0.1)\n",
    "print(a*b) "
   ],
   "outputs": [
    {
     "output_type": "stream",
     "name": "stdout",
     "text": [
      "[0.  0.1 0.2 0.3]\n",
      "[ 0  5 12 21]\n"
     ]
    }
   ],
   "metadata": {}
  },
  {
   "cell_type": "code",
   "execution_count": 15,
   "source": [
    "a = np.zeros((1,4))\n",
    "b = np.zeros((4,3))\n",
    "\n",
    "c = a.dot(b) #if arrays are 2D, np.dot result matrix multiplication\n",
    "             # else vector dot product\n",
    "\n",
    "print(c.shape)"
   ],
   "outputs": [
    {
     "output_type": "stream",
     "name": "stdout",
     "text": [
      "(1, 3)\n"
     ]
    }
   ],
   "metadata": {}
  },
  {
   "cell_type": "code",
   "execution_count": null,
   "source": [
    "d = np.zeros((5,4)).T #.T for transpose"
   ],
   "outputs": [],
   "metadata": {}
  }
 ],
 "metadata": {
  "orig_nbformat": 4,
  "language_info": {
   "name": "python",
   "version": "3.8.10",
   "mimetype": "text/x-python",
   "codemirror_mode": {
    "name": "ipython",
    "version": 3
   },
   "pygments_lexer": "ipython3",
   "nbconvert_exporter": "python",
   "file_extension": ".py"
  },
  "kernelspec": {
   "name": "python3",
   "display_name": "Python 3.8.10 64-bit"
  },
  "interpreter": {
   "hash": "916dbcbb3f70747c44a77c7bcd40155683ae19c65e1c03b4aa3499c5328201f1"
  }
 },
 "nbformat": 4,
 "nbformat_minor": 2
}