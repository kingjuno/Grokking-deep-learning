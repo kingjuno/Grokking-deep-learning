{
 "cells": [
  {
   "cell_type": "code",
   "execution_count": 67,
   "source": [
    "weights = [0.3, 0.2, 0.9]\n",
    "\n",
    "def ele_mul(input,weight):\n",
    "    output = [0,0,0]\n",
    "\n",
    "    assert(len(output) == len(weight))\n",
    "\n",
    "    for i in range(len(output)):\n",
    "        output[i] = input*weight[i]\n",
    "\n",
    "    return output\n",
    "\n",
    "def neural_network(input,weight):\n",
    "    pred = ele_mul(input,weight)\n",
    "    return pred"
   ],
   "outputs": [],
   "metadata": {}
  },
  {
   "cell_type": "code",
   "execution_count": 68,
   "source": [
    "wlrec = [0.65, 1.0, 1.0, 0.9] #win or lose record (recorded)\n",
    "\n",
    "hurt = [0.1, 0.0, 0.0, 0.1]\n",
    "win = [ 1, 1, 0, 1]\n",
    "sad = [0.1, 0.0, 0.1, 0.2]\n",
    "\n",
    "input = wlrec[0]\n",
    "goal_pred = [hurt[0], win[0], sad[0]]\n",
    "\n",
    "pred = neural_network(input,weights)"
   ],
   "outputs": [],
   "metadata": {}
  },
  {
   "cell_type": "code",
   "execution_count": 69,
   "source": [
    "error = [0,0,0]\n",
    "delta = [0,0,0]\n",
    "\n",
    "for i in range(len(goal_pred)):\n",
    "    error[i] = (pred[i]-goal_pred[i])**2\n",
    "    delta[i] = pred[i] - goal_pred[i]"
   ],
   "outputs": [],
   "metadata": {}
  },
  {
   "cell_type": "code",
   "execution_count": 70,
   "source": [
    "weight_delta = ele_mul(input,delta)\n",
    "alpha = 0.1\n",
    "\n",
    "for i in range(len(weights)):\n",
    "    weights[i] -= (alpha*weight_delta[i])\n",
    "\n",
    "print(f'---\\nWeights: {weights}\\nWeight Delta:{weight_delta}')"
   ],
   "outputs": [
    {
     "output_type": "stream",
     "name": "stdout",
     "text": [
      "[0.095, -0.87, 0.4850000000000001]\n",
      "---\n",
      "Weights: [0.293825, 0.25655, 0.868475]\n",
      "Weight Delta:[0.061750000000000006, -0.5655, 0.3152500000000001]\n"
     ]
    }
   ],
   "metadata": {}
  }
 ],
 "metadata": {
  "orig_nbformat": 4,
  "language_info": {
   "name": "python",
   "version": "3.8.10",
   "mimetype": "text/x-python",
   "codemirror_mode": {
    "name": "ipython",
    "version": 3
   },
   "pygments_lexer": "ipython3",
   "nbconvert_exporter": "python",
   "file_extension": ".py"
  },
  "kernelspec": {
   "name": "python3",
   "display_name": "Python 3.8.10 64-bit"
  },
  "interpreter": {
   "hash": "916dbcbb3f70747c44a77c7bcd40155683ae19c65e1c03b4aa3499c5328201f1"
  }
 },
 "nbformat": 4,
 "nbformat_minor": 2
}