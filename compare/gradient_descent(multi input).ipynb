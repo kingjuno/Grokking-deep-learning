{
 "cells": [
  {
   "cell_type": "code",
   "execution_count": 4,
   "source": [
    "def w_sum(input,weight):\n",
    "    assert(len(input) == len(weight))\n",
    "\n",
    "    output = 0\n",
    "\n",
    "    for i in range(len(input)):\n",
    "        output += input[i]*weight[i]\n",
    "\n",
    "    return output\n",
    "\n",
    "def neural_network(input,weight):\n",
    "    pred = w_sum(input,weight)\n",
    "    return pred"
   ],
   "outputs": [],
   "metadata": {}
  },
  {
   "cell_type": "code",
   "execution_count": 5,
   "source": [
    "weight = [0.1,0.2,-0.1]\n",
    "\n",
    "toes = [8.5 , 9.5, 9.9, 9.0]\n",
    "wlrec = [0.65, 0.8, 0.8, 0.9]\n",
    "nfans = [1.2 , 1.3, 0.5, 1.0]\n",
    "\n",
    "win_or_lose = [1, 1, 0, 1]\n",
    "goal_pred = win_or_lose[0]\n",
    "\n",
    "input = [toes[0],wlrec[0],nfans[0]]"
   ],
   "outputs": [],
   "metadata": {}
  },
  {
   "cell_type": "code",
   "execution_count": 6,
   "source": [
    "pred = neural_network(input,weight)\n",
    "\n",
    "error = (pred-goal_pred)**2\n",
    "\n",
    "delta = pred - goal_pred"
   ],
   "outputs": [],
   "metadata": {}
  },
  {
   "cell_type": "code",
   "execution_count": 7,
   "source": [
    "def ele_mul(input,delta):\n",
    "    output = [0,0,0]\n",
    "\n",
    "    assert(len(input) == len(output))\n",
    "\n",
    "    for i in range(len(input)):\n",
    "        output[i] = delta*input[i]\n",
    "\n",
    "    return output"
   ],
   "outputs": [],
   "metadata": {}
  },
  {
   "cell_type": "code",
   "execution_count": 8,
   "source": [
    "alpha = 0.01\n",
    "\n",
    "weight_delta = ele_mul(input,delta)\n",
    "\n",
    "for i in range(len(weight_delta)):\n",
    "    weight[i] -= weight_delta[i]*alpha\n",
    "\n",
    "print(f\"Weights: {weight}\\nWeight Delta: {weight_delta}\")"
   ],
   "outputs": [
    {
     "output_type": "stream",
     "name": "stdout",
     "text": [
      "Weights: [1.2899999999999991, 0.2909999999999999, 0.06799999999999987]\n",
      "Weight Delta: [-1.189999999999999, -0.09099999999999994, -0.16799999999999987]\n"
     ]
    }
   ],
   "metadata": {}
  }
 ],
 "metadata": {
  "orig_nbformat": 4,
  "language_info": {
   "name": "python",
   "version": "3.8.10",
   "mimetype": "text/x-python",
   "codemirror_mode": {
    "name": "ipython",
    "version": 3
   },
   "pygments_lexer": "ipython3",
   "nbconvert_exporter": "python",
   "file_extension": ".py"
  },
  "kernelspec": {
   "name": "python3",
   "display_name": "Python 3.8.10 64-bit"
  },
  "interpreter": {
   "hash": "916dbcbb3f70747c44a77c7bcd40155683ae19c65e1c03b4aa3499c5328201f1"
  }
 },
 "nbformat": 4,
 "nbformat_minor": 2
}