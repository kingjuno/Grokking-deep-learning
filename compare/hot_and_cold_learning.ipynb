{
 "cells": [
  {
   "cell_type": "code",
   "execution_count": 4,
   "source": [
    "# empty network\n",
    "\n",
    "weight = 0.1\n",
    "\n",
    "def neural_network(input,weight):\n",
    "    pred = input*weight\n",
    "    return pred"
   ],
   "outputs": [],
   "metadata": {}
  },
  {
   "cell_type": "code",
   "execution_count": 5,
   "source": [
    "# predict : making a prediction and evaluating error\n",
    "\n",
    "no_of_toe = [8.5]\n",
    "win_or_lose = [1]\n",
    "\n",
    "input = no_of_toe[0]\n",
    "\n",
    "prediction = neural_network(input,weight)\n",
    "expected = win_or_lose[0]\n",
    "\n",
    "error = (prediction-expected)**2\n",
    "print(error)"
   ],
   "outputs": [
    {
     "output_type": "stream",
     "name": "stdout",
     "text": [
      "0.022499999999999975\n"
     ]
    }
   ],
   "metadata": {}
  },
  {
   "cell_type": "code",
   "execution_count": 7,
   "source": [
    "#compare : making a prediction with a higher weight and evaluating error\n",
    "\n",
    "lr =0.01\n",
    "\n",
    "prediction_up = neural_network(input,weight+lr)\n",
    "\n",
    "error_up = (prediction_up-expected)**2\n",
    "print(error_up)"
   ],
   "outputs": [
    {
     "output_type": "stream",
     "name": "stdout",
     "text": [
      "0.004224999999999993\n"
     ]
    }
   ],
   "metadata": {}
  },
  {
   "cell_type": "code",
   "execution_count": 9,
   "source": [
    "#compare : making a prediction with lower weight and evaluating error\n",
    "\n",
    "lr = 0.01\n",
    "\n",
    "prediction_down = neural_network(input,weight-lr)\n",
    "\n",
    "error_down = (prediction_down-expected)**2\n",
    "print(error_down)"
   ],
   "outputs": [
    {
     "output_type": "stream",
     "name": "stdout",
     "text": [
      "0.05522499999999994\n"
     ]
    }
   ],
   "metadata": {}
  },
  {
   "cell_type": "code",
   "execution_count": null,
   "source": [
    "#compare + learn : comparing error and setting the new weight\n",
    "\n",
    "if(error>error_down or error>error_up):\n",
    "    if(error_down>error_up):\n",
    "        weight+=lr\n",
    "    else:\n",
    "        weight-=lr"
   ],
   "outputs": [],
   "metadata": {}
  }
 ],
 "metadata": {
  "orig_nbformat": 4,
  "language_info": {
   "name": "python",
   "version": "3.8.10",
   "mimetype": "text/x-python",
   "codemirror_mode": {
    "name": "ipython",
    "version": 3
   },
   "pygments_lexer": "ipython3",
   "nbconvert_exporter": "python",
   "file_extension": ".py"
  },
  "kernelspec": {
   "name": "python3",
   "display_name": "Python 3.8.10 64-bit"
  },
  "interpreter": {
   "hash": "916dbcbb3f70747c44a77c7bcd40155683ae19c65e1c03b4aa3499c5328201f1"
  }
 },
 "nbformat": 4,
 "nbformat_minor": 2
}