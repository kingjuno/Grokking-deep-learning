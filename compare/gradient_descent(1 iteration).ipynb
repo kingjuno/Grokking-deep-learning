{
 "cells": [
  {
   "cell_type": "code",
   "execution_count": 1,
   "source": [
    "# empty network\n",
    "\n",
    "\n",
    "weight = 0.1\n",
    "\n",
    "def neural_network(input,weight):\n",
    "    pred = input*weight\n",
    "    return pred"
   ],
   "outputs": [],
   "metadata": {}
  },
  {
   "cell_type": "code",
   "execution_count": 4,
   "source": [
    "# making a prediction and evaluating error\n",
    "\n",
    "no_of_toes = [8.5]\n",
    "win_or_lose = [1]\n",
    "\n",
    "input = no_of_toes[0]\n",
    "\n",
    "pred = neural_network(input,weight)\n",
    "goal_pred = win_or_lose[0]\n",
    "\n",
    "\n",
    "error = (pred-goal_pred)**2 # force raw error to be positive\n",
    "\n",
    "# compare : calculating the node delta and putting it on output node\n",
    "\n",
    "delta = pred-goal_pred\n",
    "\n",
    "# calculating weight delta and putting it on the weight\n",
    "\n",
    "weight_delta = input*delta"
   ],
   "outputs": [],
   "metadata": {}
  },
  {
   "cell_type": "code",
   "execution_count": null,
   "source": [
    "# updating weight\n",
    "\n",
    "alpha = 0.01 #alpha fixed before training\n",
    "weight -= weight_delta*alpha"
   ],
   "outputs": [],
   "metadata": {}
  }
 ],
 "metadata": {
  "orig_nbformat": 4,
  "language_info": {
   "name": "python",
   "version": "3.8.10",
   "mimetype": "text/x-python",
   "codemirror_mode": {
    "name": "ipython",
    "version": 3
   },
   "pygments_lexer": "ipython3",
   "nbconvert_exporter": "python",
   "file_extension": ".py"
  },
  "kernelspec": {
   "name": "python3",
   "display_name": "Python 3.8.10 64-bit"
  },
  "interpreter": {
   "hash": "916dbcbb3f70747c44a77c7bcd40155683ae19c65e1c03b4aa3499c5328201f1"
  }
 },
 "nbformat": 4,
 "nbformat_minor": 2
}