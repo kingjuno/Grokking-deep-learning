{
 "cells": [
  {
   "cell_type": "code",
   "execution_count": 45,
   "source": [
    "weights = [ [0.1, 0.1, -0.3],# hurt\n",
    "            [0.1, 0.2, 0.0], # win\n",
    "            [0.0, 1.3, 0.1]] # sad\n",
    "            #toes wlrec nfans\n",
    "\n",
    "def w_sum(input,weight):\n",
    "    assert(len(input) == len(weight))\n",
    "\n",
    "    output = 0\n",
    "    for i in range(len(input)):\n",
    "        output += input[i]*weight[i]\n",
    "    \n",
    "    return output\n",
    "\n",
    "def vec_mul(input,weights):\n",
    "    output = [0,0,0]\n",
    "\n",
    "    assert(len(output) == len(input))\n",
    "\n",
    "    for i in range(len(input)):\n",
    "        output[i] = w_sum(input,weights[i])\n",
    "    \n",
    "    return output\n",
    "\n",
    "\n",
    "def neural_network(input,weight):\n",
    "    pred = vec_mul(input,weights)\n",
    "    return pred"
   ],
   "outputs": [],
   "metadata": {}
  },
  {
   "cell_type": "code",
   "execution_count": 46,
   "source": [
    "toes = [8.5, 9.5, 9.9, 9.0]\n",
    "wlrec = [0.65,0.8, 0.8, 0.9]\n",
    "nfans = [1.2, 1.3, 0.5, 1.0]\n",
    "\n",
    "hurt = [0.1, 0.0, 0.0, 0.1]\n",
    "win = [ 1, 1, 0, 1]\n",
    "sad = [0.1, 0.0, 0.1, 0.2]\n",
    "\n",
    "alpha = 0.01\n",
    "\n",
    "input = [toes[0],wlrec[0],nfans[0]]\n",
    "goal_pred = [hurt[0], win[0], sad[0]]\n",
    "\n",
    "pred = neural_network(input,weights)"
   ],
   "outputs": [],
   "metadata": {}
  },
  {
   "cell_type": "code",
   "execution_count": 47,
   "source": [
    "error = [0,0,0]\n",
    "delta = [0,0,0]\n",
    "\n",
    "for i in range(len(goal_pred)):\n",
    "    error[i] = (pred[i]-goal_pred[i])**2\n",
    "    delta[i] = pred[i] - goal_pred[i]"
   ],
   "outputs": [],
   "metadata": {}
  },
  {
   "cell_type": "code",
   "execution_count": 49,
   "source": [
    "def outer_prod(input,delta):\n",
    "    output = [[0,0,0]]*3\n",
    "    for i in range(len(input)):\n",
    "        for j in range(len(delta)):\n",
    "            output[i][j] = input[i]*delta[i]\n",
    "\n",
    "    return output\n",
    "\n",
    "weight_delta = outer_prod(input,delta)"
   ],
   "outputs": [],
   "metadata": {}
  },
  {
   "cell_type": "code",
   "execution_count": null,
   "source": [
    "for i in range(len(weights)):\n",
    "    for j in range(len(weights[i])):\n",
    "        weights[i][j] -= weight_delta[i][j]*alpha\n",
    "\n"
   ],
   "outputs": [],
   "metadata": {}
  }
 ],
 "metadata": {
  "orig_nbformat": 4,
  "language_info": {
   "name": "python",
   "version": "3.8.10",
   "mimetype": "text/x-python",
   "codemirror_mode": {
    "name": "ipython",
    "version": 3
   },
   "pygments_lexer": "ipython3",
   "nbconvert_exporter": "python",
   "file_extension": ".py"
  },
  "kernelspec": {
   "name": "python3",
   "display_name": "Python 3.8.10 64-bit"
  },
  "interpreter": {
   "hash": "916dbcbb3f70747c44a77c7bcd40155683ae19c65e1c03b4aa3499c5328201f1"
  }
 },
 "nbformat": 4,
 "nbformat_minor": 2
}