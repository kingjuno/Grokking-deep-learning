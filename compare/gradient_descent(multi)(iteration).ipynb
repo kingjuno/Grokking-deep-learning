{
 "cells": [
  {
   "cell_type": "code",
   "execution_count": 1,
   "source": [
    "def w_sum(input,weight):\n",
    "    assert(len(input) == len(weight))\n",
    "\n",
    "    output = 0\n",
    "\n",
    "    for i in range(len(input)):\n",
    "        output += input[i]*weight[i]\n",
    "\n",
    "    return output\n",
    "\n",
    "def neural_network(input,weight):\n",
    "    pred = w_sum(input,weight)\n",
    "    return pred"
   ],
   "outputs": [],
   "metadata": {}
  },
  {
   "cell_type": "code",
   "execution_count": 2,
   "source": [
    "weight = [0.1,0.2,-0.1]\n",
    "alpha = 0.01\n",
    "\n",
    "toes = [8.5 , 9.5, 9.9, 9.0]\n",
    "wlrec = [0.65, 0.8, 0.8, 0.9]\n",
    "nfans = [1.2 , 1.3, 0.5, 1.0]\n",
    "\n",
    "win_or_lose = [1, 1, 0, 1]\n",
    "goal_pred = win_or_lose[0]\n",
    "\n",
    "input = [toes[0],wlrec[0],nfans[0]]"
   ],
   "outputs": [],
   "metadata": {}
  },
  {
   "cell_type": "code",
   "execution_count": 3,
   "source": [
    "def ele_mul(input,delta):\n",
    "    output = [0,0,0]\n",
    "\n",
    "    assert(len(input) == len(output))\n",
    "\n",
    "    for i in range(len(input)):\n",
    "        output[i] = delta*input[i]\n",
    "\n",
    "    return output"
   ],
   "outputs": [],
   "metadata": {}
  },
  {
   "cell_type": "code",
   "execution_count": 4,
   "source": [
    "for iteration in range(4):\n",
    "    print('-----')\n",
    "    pred = neural_network(input,weight)\n",
    "    error = (pred-goal_pred)**2\n",
    "    delta = pred - goal_pred\n",
    "    weight_delta = ele_mul(input,delta)\n",
    "    \n",
    "    for i in range(len(weight_delta)):\n",
    "        weight[i] -= weight_delta[i]*alpha\n",
    "    print(f'{iteration}: Prediction: {pred} Goal: {goal_pred}')\n",
    "    print(f'Error: {error} Delta: {delta}')\n",
    "    print(f\"Weights: {weight}\\nWeight Delta: {weight_delta}\")"
   ],
   "outputs": [
    {
     "output_type": "stream",
     "name": "stdout",
     "text": [
      "-----\n",
      "0: Prediction: 0.8600000000000001 Goal: 1\n",
      "Error: 0.01959999999999997 Delta: -0.1399999999999999\n",
      "Weights: [0.1119, 0.20091, -0.09832]\n",
      "Weight Delta: [-1.189999999999999, -0.09099999999999994, -0.16799999999999987]\n",
      "-----\n",
      "1: Prediction: 0.9637574999999999 Goal: 1\n",
      "Error: 0.0013135188062500048 Delta: -0.036242500000000066\n",
      "Weights: [0.11498061250000001, 0.20114557625, -0.09788509000000001]\n",
      "Weight Delta: [-0.30806125000000056, -0.023557625000000044, -0.04349100000000008]\n",
      "-----\n",
      "2: Prediction: 0.9906177228125002 Goal: 1\n",
      "Error: 8.802712522307997e-05 Delta: -0.009382277187499843\n",
      "Weights: [0.1157781060609375, 0.20120656105171877, -0.09777250267375001]\n",
      "Weight Delta: [-0.07974935609374867, -0.006098480171874899, -0.011258732624999811]\n",
      "-----\n",
      "3: Prediction: 0.997571162993086 Goal: 1\n",
      "Error: 5.899249206154892e-06 Delta: -0.0024288370069139864\n",
      "Weights: [0.11598455720652519, 0.20122234849226373, -0.09774335662966704]\n",
      "Weight Delta: [-0.020645114558768884, -0.0015787440544940913, -0.0029146044082967834]\n"
     ]
    }
   ],
   "metadata": {}
  }
 ],
 "metadata": {
  "orig_nbformat": 4,
  "language_info": {
   "name": "python",
   "version": "3.8.10",
   "mimetype": "text/x-python",
   "codemirror_mode": {
    "name": "ipython",
    "version": 3
   },
   "pygments_lexer": "ipython3",
   "nbconvert_exporter": "python",
   "file_extension": ".py"
  },
  "kernelspec": {
   "name": "python3",
   "display_name": "Python 3.8.10 64-bit"
  },
  "interpreter": {
   "hash": "916dbcbb3f70747c44a77c7bcd40155683ae19c65e1c03b4aa3499c5328201f1"
  }
 },
 "nbformat": 4,
 "nbformat_minor": 2
}