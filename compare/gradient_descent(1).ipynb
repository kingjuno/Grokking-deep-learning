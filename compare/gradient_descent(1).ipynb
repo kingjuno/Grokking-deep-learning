{
 "cells": [
  {
   "cell_type": "code",
   "execution_count": 3,
   "source": [
    "weight, goal_pred, input = (0.0, 0.8, 0.5)"
   ],
   "outputs": [],
   "metadata": {}
  },
  {
   "cell_type": "code",
   "execution_count": 4,
   "source": [
    "for iteration in range(4):\n",
    "    pred = weight*input\n",
    "    \n",
    "    error = (pred-goal_pred)**2\n",
    "    delta = pred - goal_pred\n",
    "    weight_delta = delta*input\n",
    "    weight = weight - weight_delta\n",
    "\n",
    "    print(f'Error: {error} Prediction: {pred}')"
   ],
   "outputs": [
    {
     "output_type": "stream",
     "name": "stdout",
     "text": [
      "Error: 0.6400000000000001 Prediction: 0.0\n",
      "Error: 0.3600000000000001 Prediction: 0.2\n",
      "Error: 0.2025 Prediction: 0.35000000000000003\n",
      "Error: 0.11390625000000001 Prediction: 0.4625\n"
     ]
    }
   ],
   "metadata": {}
  },
  {
   "cell_type": "code",
   "execution_count": 5,
   "source": [
    "weight, goal_pred, input = (0.5, 0.8, 2)\n",
    "for iteration in range(4):\n",
    "    print(f'-----\\nWeight: {weight}')\n",
    "    pred = input * weight\n",
    "    error = (pred - goal_pred) ** 2\n",
    "    delta = pred - goal_pred\n",
    "    weight_delta = delta * input\n",
    "    weight = weight - weight_delta\n",
    "    print(f'Error: {error} Prediction: {pred} Goal: {goal_pred}')\n",
    "    print(f'Delta: {delta}  Weight Delta: {weight_delta}')"
   ],
   "outputs": [
    {
     "output_type": "stream",
     "name": "stdout",
     "text": [
      "-----\n",
      "Weight: 0.5\n",
      "Error: 0.03999999999999998 Prediction: 1.0 Goal: 0.8\n",
      "Delta: 0.19999999999999996  Weight Delta: 0.3999999999999999\n",
      "-----\n",
      "Weight: 0.10000000000000009\n",
      "Error: 0.3599999999999998 Prediction: 0.20000000000000018 Goal: 0.8\n",
      "Delta: -0.5999999999999999  Weight Delta: -1.1999999999999997\n",
      "-----\n",
      "Weight: 1.2999999999999998\n",
      "Error: 3.2399999999999984 Prediction: 2.5999999999999996 Goal: 0.8\n",
      "Delta: 1.7999999999999996  Weight Delta: 3.599999999999999\n",
      "-----\n",
      "Weight: -2.2999999999999994\n",
      "Error: 29.159999999999986 Prediction: -4.599999999999999 Goal: 0.8\n",
      "Delta: -5.399999999999999  Weight Delta: -10.799999999999997\n"
     ]
    }
   ],
   "metadata": {}
  }
 ],
 "metadata": {
  "orig_nbformat": 4,
  "language_info": {
   "name": "python",
   "version": "3.8.10",
   "mimetype": "text/x-python",
   "codemirror_mode": {
    "name": "ipython",
    "version": 3
   },
   "pygments_lexer": "ipython3",
   "nbconvert_exporter": "python",
   "file_extension": ".py"
  },
  "kernelspec": {
   "name": "python3",
   "display_name": "Python 3.8.10 64-bit"
  },
  "interpreter": {
   "hash": "916dbcbb3f70747c44a77c7bcd40155683ae19c65e1c03b4aa3499c5328201f1"
  }
 },
 "nbformat": 4,
 "nbformat_minor": 2
}