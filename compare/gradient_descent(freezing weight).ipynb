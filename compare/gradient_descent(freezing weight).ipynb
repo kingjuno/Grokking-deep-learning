{
 "cells": [
  {
   "cell_type": "code",
   "execution_count": 17,
   "source": [
    "def w_sum(input,weight):\n",
    "    assert(len(input) == len(weight))\n",
    "\n",
    "    output = 0\n",
    "\n",
    "    for i in range(len(input)):\n",
    "        output += input[i]*weight[i]\n",
    "\n",
    "    return output\n",
    "\n",
    "def neural_network(input,weight):\n",
    "    pred = w_sum(input,weight)\n",
    "    return pred"
   ],
   "outputs": [],
   "metadata": {}
  },
  {
   "cell_type": "code",
   "execution_count": 18,
   "source": [
    "weight = [0.1,0.2,-0.1]\n",
    "alpha = 0.01\n",
    "\n",
    "toes = [8.5 , 9.5, 9.9, 9.0]\n",
    "wlrec = [0.65, 0.8, 0.8, 0.9]\n",
    "nfans = [1.2 , 1.3, 0.5, 1.0]\n",
    "\n",
    "win_or_lose = [1, 1, 0, 1]\n",
    "goal_pred = win_or_lose[0]\n",
    "\n",
    "input = [toes[0],wlrec[0],nfans[0]]"
   ],
   "outputs": [],
   "metadata": {}
  },
  {
   "cell_type": "code",
   "execution_count": 19,
   "source": [
    "def ele_mul(input,delta):\n",
    "    output = [0,0,0]\n",
    "\n",
    "    assert(len(input) == len(output))\n",
    "\n",
    "    for i in range(len(input)):\n",
    "        output[i] = delta*input[i]\n",
    "\n",
    "    return output"
   ],
   "outputs": [],
   "metadata": {}
  },
  {
   "cell_type": "code",
   "execution_count": 20,
   "source": [
    "for iteration in range(4):\n",
    "    print('-----')\n",
    "    pred = neural_network(input,weight)\n",
    "    error = (pred-goal_pred)**2\n",
    "    delta = pred - goal_pred\n",
    "    weight_delta = ele_mul(input,delta)\n",
    "    \n",
    "    weight_delta[0] = 0 # freezing weight change for weight[0]\n",
    "    \n",
    "    for i in range(len(weight_delta)):\n",
    "        weight[i] -= weight_delta[i]*alpha\n",
    "    print(f'{iteration}: Prediction: {pred} Goal: {goal_pred}')\n",
    "    print(f'Error: {error} Delta: {delta}')\n",
    "    print(f\"Weights: {weight}\\nWeight Delta: {weight_delta}\")"
   ],
   "outputs": [
    {
     "output_type": "stream",
     "name": "stdout",
     "text": [
      "-----\n",
      "0: Prediction: 0.8600000000000001 Goal: 1\n",
      "Error: 0.01959999999999997 Delta: -0.1399999999999999\n",
      "Weights: [0.1, 0.20091, -0.09832]\n",
      "Weight Delta: [0, -0.09099999999999994, -0.16799999999999987]\n",
      "-----\n",
      "1: Prediction: 0.8626075000000001 Goal: 1\n",
      "Error: 0.018876699056249977 Delta: -0.13739249999999992\n",
      "Weights: [0.1, 0.20180305125, -0.09667129]\n",
      "Weight Delta: [0, -0.08930512499999994, -0.1648709999999999]\n",
      "-----\n",
      "2: Prediction: 0.8651664353125001 Goal: 1\n",
      "Error: 0.018180090166338207 Delta: -0.13483356468749985\n",
      "Weights: [0.1, 0.20267946942046874, -0.09505328722375]\n",
      "Weight Delta: [0, -0.0876418170468749, -0.16180027762499982]\n",
      "-----\n",
      "3: Prediction: 0.8676777104548048 Goal: 1\n",
      "Error: 0.017509188310482475 Delta: -0.1323222895451952\n",
      "Weights: [0.1, 0.20353956430251252, -0.09346541974920766]\n",
      "Weight Delta: [0, -0.08600948820437689, -0.15878674745423424]\n"
     ]
    }
   ],
   "metadata": {}
  }
 ],
 "metadata": {
  "orig_nbformat": 4,
  "language_info": {
   "name": "python",
   "version": "3.8.10",
   "mimetype": "text/x-python",
   "codemirror_mode": {
    "name": "ipython",
    "version": 3
   },
   "pygments_lexer": "ipython3",
   "nbconvert_exporter": "python",
   "file_extension": ".py"
  },
  "kernelspec": {
   "name": "python3",
   "display_name": "Python 3.8.10 64-bit"
  },
  "interpreter": {
   "hash": "916dbcbb3f70747c44a77c7bcd40155683ae19c65e1c03b4aa3499c5328201f1"
  }
 },
 "nbformat": 4,
 "nbformat_minor": 2
}