{
 "cells": [
  {
   "cell_type": "code",
   "execution_count": 100,
   "metadata": {},
   "outputs": [],
   "source": [
    "import numpy as np\n",
    "\n",
    "f = open('reviews.txt', 'r')\n",
    "raw_review = f.readlines()\n",
    "f.close()\n",
    "\n",
    "f = open('labels.txt', 'r')\n",
    "raw_labels = f.readlines()\n",
    "f.close()"
   ]
  },
  {
   "cell_type": "code",
   "execution_count": 101,
   "metadata": {},
   "outputs": [],
   "source": [
    "tokens = [set(word.split(\" \")) for word in raw_review]\n",
    "\n",
    "vocab = set()\n",
    "for sent in tokens:\n",
    "    for word in sent:\n",
    "        vocab.add(word)\n",
    "\n",
    "word2ind = {}\n",
    "for i,word in enumerate(vocab):\n",
    "    word2ind[word] = i"
   ]
  },
  {
   "cell_type": "code",
   "execution_count": 102,
   "metadata": {},
   "outputs": [],
   "source": [
    "input_dataset = []\n",
    "for sent in tokens:\n",
    "    sent_indices = []\n",
    "    for word in sent:\n",
    "        sent_indices.append(word2ind[word])\n",
    "    input_dataset.append(sent_indices)\n",
    "\n",
    "output = []\n",
    "for label in raw_labels:\n",
    "    if label[0] == 'p':\n",
    "        output.append(1)\n",
    "    else:\n",
    "        output.append(0)"
   ]
  },
  {
   "cell_type": "code",
   "execution_count": 103,
   "metadata": {},
   "outputs": [],
   "source": [
    "def sigmoid(x):\n",
    "    return 1/(1+np.exp(-x))"
   ]
  },
  {
   "cell_type": "code",
   "execution_count": 104,
   "metadata": {},
   "outputs": [],
   "source": [
    "weight_0_1 = 0.2*np.random.random((len(vocab),100)) - 0.1\n",
    "weight_1_2 = 0.2*np.random.random((100,1)) - 0.1"
   ]
  },
  {
   "cell_type": "code",
   "execution_count": 106,
   "metadata": {},
   "outputs": [
    {
     "name": "stdout",
     "output_type": "stream",
     "text": [
      "Iter:0 Progress:99.99% Training Accuracy:0.83952%\n",
      "Iter:1 Progress:99.99% Training Accuracy:0.84946%\n",
      "Iter:2 Progress:81.83% Training Accuracy:0.8574226511495884%"
     ]
    },
    {
     "name": "stderr",
     "output_type": "stream",
     "text": [
      "/tmp/ipykernel_15948/4033946986.py:2: RuntimeWarning: overflow encountered in exp\n",
      "  return 1/(1+np.exp(-x))\n"
     ]
    },
    {
     "name": "stdout",
     "output_type": "stream",
     "text": [
      "Iter:2 Progress:99.99% Training Accuracy:0.8581733333333333%\n",
      "Iter:3 Progress:99.99% Training Accuracy:0.86336%\n",
      "Iter:4 Progress:99.99% Training Accuracy:0.866456%\n",
      "Iter:5 Progress:99.99% Training Accuracy:0.8692266666666667%\n",
      "Iter:6 Progress:99.99% Training Accuracy:0.8711371428571428%\n",
      "Iter:7 Progress:99.99% Training Accuracy:0.87235%\n",
      "Iter:8 Progress:99.99% Training Accuracy:0.8737066666666666%\n",
      "Iter:9 Progress:99.99% Training Accuracy:0.875164%\n",
      "Iter:10 Progress:70.43% Training Accuracy:0.8753970329957774%"
     ]
    },
    {
     "ename": "KeyboardInterrupt",
     "evalue": "",
     "output_type": "error",
     "traceback": [
      "\u001b[0;31m---------------------------------------------------------------------------\u001b[0m",
      "\u001b[0;31mKeyboardInterrupt\u001b[0m                         Traceback (most recent call last)",
      "\u001b[0;32m/tmp/ipykernel_15948/2318723566.py\u001b[0m in \u001b[0;36m<module>\u001b[0;34m\u001b[0m\n\u001b[1;32m      3\u001b[0m     \u001b[0;32mfor\u001b[0m \u001b[0mi\u001b[0m \u001b[0;32min\u001b[0m \u001b[0mrange\u001b[0m\u001b[0;34m(\u001b[0m\u001b[0mlen\u001b[0m\u001b[0;34m(\u001b[0m\u001b[0minput_dataset\u001b[0m\u001b[0;34m)\u001b[0m\u001b[0;34m)\u001b[0m\u001b[0;34m:\u001b[0m\u001b[0;34m\u001b[0m\u001b[0;34m\u001b[0m\u001b[0m\n\u001b[1;32m      4\u001b[0m         \u001b[0mx\u001b[0m\u001b[0;34m,\u001b[0m\u001b[0my\u001b[0m \u001b[0;34m=\u001b[0m \u001b[0minput_dataset\u001b[0m\u001b[0;34m[\u001b[0m\u001b[0mi\u001b[0m\u001b[0;34m]\u001b[0m\u001b[0;34m,\u001b[0m \u001b[0moutput\u001b[0m\u001b[0;34m[\u001b[0m\u001b[0mi\u001b[0m\u001b[0;34m]\u001b[0m\u001b[0;34m\u001b[0m\u001b[0;34m\u001b[0m\u001b[0m\n\u001b[0;32m----> 5\u001b[0;31m         \u001b[0mlayer_1\u001b[0m \u001b[0;34m=\u001b[0m \u001b[0msigmoid\u001b[0m\u001b[0;34m(\u001b[0m\u001b[0mnp\u001b[0m\u001b[0;34m.\u001b[0m\u001b[0msum\u001b[0m\u001b[0;34m(\u001b[0m\u001b[0mweight_0_1\u001b[0m\u001b[0;34m[\u001b[0m\u001b[0mx\u001b[0m\u001b[0;34m]\u001b[0m\u001b[0;34m,\u001b[0m\u001b[0maxis\u001b[0m\u001b[0;34m=\u001b[0m\u001b[0;36m0\u001b[0m\u001b[0;34m)\u001b[0m\u001b[0;34m)\u001b[0m\u001b[0;34m\u001b[0m\u001b[0;34m\u001b[0m\u001b[0m\n\u001b[0m\u001b[1;32m      6\u001b[0m         \u001b[0mlayer_2\u001b[0m \u001b[0;34m=\u001b[0m \u001b[0msigmoid\u001b[0m\u001b[0;34m(\u001b[0m\u001b[0mnp\u001b[0m\u001b[0;34m.\u001b[0m\u001b[0mdot\u001b[0m\u001b[0;34m(\u001b[0m\u001b[0mlayer_1\u001b[0m\u001b[0;34m,\u001b[0m\u001b[0mweight_1_2\u001b[0m\u001b[0;34m)\u001b[0m\u001b[0;34m)\u001b[0m\u001b[0;34m\u001b[0m\u001b[0;34m\u001b[0m\u001b[0m\n\u001b[1;32m      7\u001b[0m \u001b[0;34m\u001b[0m\u001b[0m\n",
      "\u001b[0;31mKeyboardInterrupt\u001b[0m: "
     ]
    }
   ],
   "source": [
    "correct, total = 0, 0\n",
    "for j in range(20):\n",
    "    for i in range(len(input_dataset)):\n",
    "        x,y = input_dataset[i], output[i]\n",
    "        layer_1 = sigmoid(np.sum(weight_0_1[x],axis=0))\n",
    "        layer_2 = sigmoid(np.dot(layer_1,weight_1_2))\n",
    "\n",
    "        layer_2_delta = layer_2 - y\n",
    "        layer_1_delta = layer_2_delta.dot(weight_1_2.T)\n",
    "\n",
    "        weight_0_1[x] -= 0.01*layer_1_delta\n",
    "        # print(layer_1.shape, layer_2_delta.shape)\n",
    "        weight_1_2 -= 0.01*np.outer(layer_1,layer_2_delta)\n",
    "        if np.abs(layer_2_delta) < 0.5:\n",
    "            correct += 1\n",
    "        total+=1\n",
    "        if(i%10==9):\n",
    "            progress = str(i/float(len(input_dataset)))\n",
    "            sys.stdout.write('\\rIter:'+str(j)\\\n",
    "            +' Progress:'+progress[2:4]\\\n",
    "            +'.'+progress[4:6]\\\n",
    "            +'% Training Accuracy:'\\\n",
    "            + str(correct/float(total)) + '%')\n",
    "    print()\n"
   ]
  }
 ],
 "metadata": {
  "interpreter": {
   "hash": "916dbcbb3f70747c44a77c7bcd40155683ae19c65e1c03b4aa3499c5328201f1"
  },
  "kernelspec": {
   "display_name": "Python 3.8.10 64-bit",
   "name": "python3"
  },
  "language_info": {
   "codemirror_mode": {
    "name": "ipython",
    "version": 3
   },
   "file_extension": ".py",
   "mimetype": "text/x-python",
   "name": "python",
   "nbconvert_exporter": "python",
   "pygments_lexer": "ipython3",
   "version": "3.8.10"
  },
  "orig_nbformat": 4
 },
 "nbformat": 4,
 "nbformat_minor": 2
}
