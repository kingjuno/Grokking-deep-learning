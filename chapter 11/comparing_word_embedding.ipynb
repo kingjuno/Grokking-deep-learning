{
 "cells": [
  {
   "cell_type": "code",
   "execution_count": 1,
   "metadata": {},
   "outputs": [],
   "source": [
    "import sys\n",
    "\n",
    "f = open('reviews.txt')\n",
    "raw_reviews = f.readlines()\n",
    "f.close()\n",
    "\n",
    "f = open('labels.txt')\n",
    "raw_labels = f.readlines()\n",
    "f.close()\n",
    "\n",
    "tokens = list(map(lambda x:set(x.split(\" \")),raw_reviews))"
   ]
  },
  {
   "cell_type": "code",
   "execution_count": 2,
   "metadata": {},
   "outputs": [],
   "source": [
    "vocab = set()\n",
    "for sent in tokens:\n",
    "    for word in sent:\n",
    "        if len(word)>0:\n",
    "            vocab.add(word)\n",
    "vocab = list(vocab)\n",
    "\n",
    "word2index = {}\n",
    "for i,word in enumerate(vocab):\n",
    "    word2index[word] = i\n"
   ]
  },
  {
   "cell_type": "code",
   "execution_count": 3,
   "metadata": {},
   "outputs": [],
   "source": [
    "input_dataset = list()\n",
    "for sent in tokens:\n",
    "    sent_indices = list()\n",
    "    for word in sent:\n",
    "        try:\n",
    "            sent_indices.append(word2index[word])\n",
    "        except:\n",
    "            pass\n",
    "    input_dataset.append(list(set(sent_indices)))\n"
   ]
  },
  {
   "cell_type": "code",
   "execution_count": 4,
   "metadata": {},
   "outputs": [],
   "source": [
    "target_dataset = list()\n",
    "for label in raw_labels:\n",
    "    if label == 'positive\\n':\n",
    "        target_dataset.append(1)\n",
    "    else:\n",
    "        target_dataset.append(0)"
   ]
  },
  {
   "cell_type": "code",
   "execution_count": 5,
   "metadata": {},
   "outputs": [],
   "source": [
    "import numpy as np\n",
    "np.random.seed(1)"
   ]
  },
  {
   "cell_type": "code",
   "execution_count": 6,
   "metadata": {},
   "outputs": [],
   "source": [
    "def sigmoid(x):\n",
    "    return 1/(1+np.exp(-x))"
   ]
  },
  {
   "cell_type": "code",
   "execution_count": 40,
   "metadata": {},
   "outputs": [],
   "source": [
    "alpha,iteration = (0.01,2)\n",
    "hidden_size = 100\n",
    "\n",
    "weight_0_1 = 0.2*np.random.random((len(vocab),hidden_size)) - 0.1\n",
    "weight_1_2 = 0.2*np.random.random((hidden_size,1)) - 0.1"
   ]
  },
  {
   "cell_type": "code",
   "execution_count": 41,
   "metadata": {},
   "outputs": [
    {
     "name": "stdout",
     "output_type": "stream",
     "text": [
      "Iter:0 Progress:95.99% Training Accuracy:0.8331666666666667%\n",
      "Iter:1 Progress:95.99% Training Accuracy:0.8669166666666667%\n"
     ]
    }
   ],
   "source": [
    "correct, total = (0,0)\n",
    "for j in range(iteration):\n",
    "    for i in range(len(input_dataset)-1000):\n",
    "        x,y = (input_dataset[i],target_dataset[i])\n",
    "        layer_1 = sigmoid(np.sum(weight_0_1[x],axis=0))\n",
    "        layer_2 = sigmoid(np.dot(layer_1,weight_1_2))\n",
    "\n",
    "        layer_2_delta = layer_2 - y\n",
    "        layer_1_delta = layer_2_delta.dot(weight_1_2.T)\n",
    "\n",
    "        weight_0_1[x] -= layer_1_delta*alpha\n",
    "        weight_1_2 -= np.outer(layer_1, layer_2_delta) * alpha\n",
    "\n",
    "        if np.abs(layer_2_delta) < 0.5:\n",
    "            correct+=1\n",
    "        total+=1\n",
    "        if(i%10==9):\n",
    "            progress = str(i/float(len(input_dataset)))\n",
    "            sys.stdout.write('\\rIter:'+str(j)\\\n",
    "            +' Progress:'+progress[2:4]\\\n",
    "            +'.'+progress[4:6]\\\n",
    "            +'% Training Accuracy:'\\\n",
    "            + str(correct/float(total)) + '%')\n",
    "    print()"
   ]
  },
  {
   "cell_type": "code",
   "execution_count": 42,
   "metadata": {},
   "outputs": [],
   "source": [
    "from collections import Counter\n",
    "import math"
   ]
  },
  {
   "cell_type": "code",
   "execution_count": 43,
   "metadata": {},
   "outputs": [],
   "source": [
    "def similar(target):\n",
    "    target_index = word2index[target]\n",
    "    scores = Counter()\n",
    "    for word, index in word2index.items():\n",
    "        raw_difference = weight_0_1[index] -weight_0_1[target_index]\n",
    "        squared_difference = raw_difference**2\n",
    "        scores[word] = -math.sqrt(sum(squared_difference))\n",
    "        \n",
    "    return scores.most_common(10)"
   ]
  },
  {
   "cell_type": "code",
   "execution_count": 44,
   "metadata": {},
   "outputs": [
    {
     "data": {
      "text/plain": [
       "[('beautiful', -0.0),\n",
       " ('outstanding', -0.708857796462495),\n",
       " ('realistic', -0.7122709826169423),\n",
       " ('freedom', -0.7491271062297961),\n",
       " ('best', -0.7668683241791592),\n",
       " ('awesome', -0.7684767131032523),\n",
       " ('shows', -0.7693739292245926),\n",
       " ('sent', -0.7700535217091992),\n",
       " ('heart', -0.771640929220134),\n",
       " ('remember', -0.7751921801370062)]"
      ]
     },
     "execution_count": 44,
     "metadata": {},
     "output_type": "execute_result"
    }
   ],
   "source": [
    "similar('beautiful')"
   ]
  },
  {
   "cell_type": "code",
   "execution_count": 45,
   "metadata": {},
   "outputs": [
    {
     "data": {
      "text/plain": [
       "[('terrible', -0.0),\n",
       " ('disappointing', -0.734925428445247),\n",
       " ('annoying', -0.7548979778499003),\n",
       " ('worse', -0.7596787198105618),\n",
       " ('boring', -0.774359705311699),\n",
       " ('dull', -0.7968526865052934),\n",
       " ('fails', -0.7981457526577221),\n",
       " ('disappointment', -0.8010134597765881),\n",
       " ('avoid', -0.8032134607648821),\n",
       " ('horrible', -0.8039548044397373)]"
      ]
     },
     "execution_count": 45,
     "metadata": {},
     "output_type": "execute_result"
    }
   ],
   "source": [
    "similar('terrible')"
   ]
  }
 ],
 "metadata": {
  "interpreter": {
   "hash": "916dbcbb3f70747c44a77c7bcd40155683ae19c65e1c03b4aa3499c5328201f1"
  },
  "kernelspec": {
   "display_name": "Python 3.8.10 64-bit",
   "name": "python3"
  },
  "language_info": {
   "codemirror_mode": {
    "name": "ipython",
    "version": 3
   },
   "file_extension": ".py",
   "mimetype": "text/x-python",
   "name": "python",
   "nbconvert_exporter": "python",
   "pygments_lexer": "ipython3",
   "version": "3.8.10"
  },
  "orig_nbformat": 4
 },
 "nbformat": 4,
 "nbformat_minor": 2
}
